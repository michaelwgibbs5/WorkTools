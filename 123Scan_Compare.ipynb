{
 "cells": [
  {
   "cell_type": "code",
   "execution_count": 6,
   "id": "cae1d8d3",
   "metadata": {},
   "outputs": [
    {
     "name": "stdout",
     "output_type": "stream",
     "text": [
      "HTML comparison saved to parameter_settings_comparison.html\n"
     ]
    }
   ],
   "source": [
    "\n",
    "import difflib\n",
    "\n",
    "def generate_html_diff(file1_path, file2_path, output_path):\n",
    "    with open(file1_path, 'r', encoding='utf-8') as f1, open(file2_path, 'r', encoding='utf-8') as f2:\n",
    "        f1_lines = f1.readlines()\n",
    "        f2_lines = f2.readlines()\n",
    "\n",
    "    differ = difflib.HtmlDiff(tabsize=4, wrapcolumn=120)\n",
    "    html_diff = differ.make_file(f1_lines, f2_lines, fromdesc='DS8108 Settings', todesc='DS8178A Settings')\n",
    "\n",
    "    with open(output_path, 'w', encoding='utf-8') as output_file:\n",
    "        output_file.write(html_diff)\n",
    "\n",
    "    print(f\"HTML comparison saved to {output_path}\")\n",
    "\n",
    "# Example usage\n",
    "generate_html_diff(\n",
    "    'Parameter Settings_DS8178_symbol 8178.txt',\n",
    "    'Parameter Settings_DS8178A.txt',\n",
    "    'parameter_settings_comparison.html'\n",
    ")\n"
   ]
  },
  {
   "cell_type": "code",
   "execution_count": null,
   "id": "36a4332c",
   "metadata": {},
   "outputs": [],
   "source": []
  }
 ],
 "metadata": {
  "kernelspec": {
   "display_name": "Python 3",
   "language": "python",
   "name": "python3"
  },
  "language_info": {
   "codemirror_mode": {
    "name": "ipython",
    "version": 3
   },
   "file_extension": ".py",
   "mimetype": "text/x-python",
   "name": "python",
   "nbconvert_exporter": "python",
   "pygments_lexer": "ipython3",
   "version": "3.13.6"
  }
 },
 "nbformat": 4,
 "nbformat_minor": 5
}
