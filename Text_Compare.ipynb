{
 "cells": [
  {
   "cell_type": "code",
   "execution_count": null,
   "id": "16e93535",
   "metadata": {},
   "outputs": [],
   "source": [
    "#Simple compare two text files and output html side by side\n",
    "\n",
    "import difflib\n",
    "import webbrowser\n",
    "import os\n",
    "\n",
    "def compare_files_to_html(file1_path, file2_path, output_html='diff_output.html'):\n",
    "    with open(file1_path, 'r') as file1, open(file2_path, 'r') as file2:\n",
    "        file1_lines = file1.readlines()\n",
    "        file2_lines = file2.readlines()\n",
    "\n",
    "    differ = difflib.HtmlDiff()\n",
    "    html_diff = differ.make_file(file1_lines, file2_lines, fromdesc='File 1', todesc='File 2')\n",
    "\n",
    "    with open(output_html, 'w') as output_file:\n",
    "        output_file.write(html_diff)\n",
    "\n",
    "    # Open the HTML file in the default web browser\n",
    "    webbrowser.open('file://' + os.path.realpath(output_html))\n",
    "\n",
    "#Change as needed\n",
    "compare_files_to_html('File_1.txt', 'File_2.txt')\n",
    "\n"
   ]
  },
  {
   "cell_type": "code",
   "execution_count": null,
   "id": "4275f299",
   "metadata": {},
   "outputs": [],
   "source": []
  }
 ],
 "metadata": {
  "kernelspec": {
   "display_name": "Python 3",
   "language": "python",
   "name": "python3"
  },
  "language_info": {
   "codemirror_mode": {
    "name": "ipython",
    "version": 3
   },
   "file_extension": ".py",
   "mimetype": "text/x-python",
   "name": "python",
   "nbconvert_exporter": "python",
   "pygments_lexer": "ipython3",
   "version": "3.13.3"
  }
 },
 "nbformat": 4,
 "nbformat_minor": 5
}
