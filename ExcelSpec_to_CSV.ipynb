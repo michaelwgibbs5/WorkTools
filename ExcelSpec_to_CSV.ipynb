{
 "cells": [
  {
   "cell_type": "code",
   "execution_count": null,
   "metadata": {},
   "outputs": [],
   "source": [
    "#Takes an excel file spec with multiple sheets and creates individual csv files, each file with the original sheet name and only the lines\n",
    "#that have specified newly created or edited to the document (inidicated in the specific column)\n",
    "#Specific use case to this particular spec document as only need the new/edited lines to be uploaded from the spec\n",
    "\n",
    "import pandas as pd\n",
    "\n",
    "# Load the Excel file\n",
    "excel_file = 'Input_Spec.xlsx'\n",
    "\n",
    "# Read the Excel file\n",
    "xls = pd.ExcelFile(excel_file)\n",
    "\n",
    "# Iterate through each sheet, skipping the first sheet as it has cover page, and save filtered rows as separate CSV files\n",
    "for sheet_name in xls.sheet_names[1:]:\n",
    "    df = pd.read_excel(excel_file, sheet_name=sheet_name)\n",
    "    \n",
    "    # Ensure the column 'Created/Edited in this DS Version' is of string type\n",
    "    df['Created/Edited in this DS Version'] = df['Created/Edited in this DS Version'].astype(str)\n",
    "    \n",
    "    # Filter rows where 'Created/Edited in this DS Version' contains 'Edited' or 'Created'\n",
    "    filtered_df = df[df['Created/Edited in this DS Version'].str.contains('Edited|Created', na=False)]\n",
    "    \n",
    "    # Drop the 'Created/Edited in this DS Version' column\n",
    "    filtered_df = filtered_df.drop(columns=['Created/Edited in this DS Version'])\n",
    "    \n",
    "    # Save the filtered rows to a CSV file with UTF-8 encoding\n",
    "    csv_file = f\"{sheet_name}_filtered.csv\"\n",
    "    filtered_df.to_csv(csv_file, index=False, encoding='utf-8')\n",
    "    print(f\"Filtered rows from sheet '{sheet_name}' have been saved as '{csv_file}'\")"
   ]
  },
  {
   "cell_type": "code",
   "execution_count": null,
   "metadata": {},
   "outputs": [],
   "source": []
  }
 ],
 "metadata": {
  "kernelspec": {
   "display_name": "Python 3",
   "language": "python",
   "name": "python3"
  },
  "language_info": {
   "codemirror_mode": {
    "name": "ipython",
    "version": 3
   },
   "file_extension": ".py",
   "mimetype": "text/x-python",
   "name": "python",
   "nbconvert_exporter": "python",
   "pygments_lexer": "ipython3",
   "version": "3.13.3"
  }
 },
 "nbformat": 4,
 "nbformat_minor": 2
}
