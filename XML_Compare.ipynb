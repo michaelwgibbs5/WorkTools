{
 "cells": [
  {
   "cell_type": "code",
   "execution_count": null,
   "id": "8a0c5a86",
   "metadata": {},
   "outputs": [],
   "source": [
    "#Compare two xml files and output a browser link highlighting the differences side by side.\n",
    "\n",
    "import difflib\n",
    "import xml.etree.ElementTree as ET\n",
    "import webbrowser\n",
    "import os\n",
    "\n",
    "def read_xml(file_path):\n",
    "    tree = ET.parse(file_path)\n",
    "    root = tree.getroot()\n",
    "    return ET.tostring(root, encoding='unicode')\n",
    "\n",
    "#Change file names for input files as needed\n",
    "file1_path = 'file1.xml'\n",
    "file2_path = 'file2.xml'\n",
    "\n",
    "xml1 = read_xml(file1_path)\n",
    "xml2 = read_xml(file2_path)\n",
    "\n",
    "html_diff = difflib.HtmlDiff().make_file(\n",
    "    xml1.splitlines(),\n",
    "    xml2.splitlines(),\n",
    "    fromdesc='File 1',\n",
    "    todesc='File 2'\n",
    ")\n",
    "\n",
    "output_path = 'diff.html'\n",
    "with open(output_path, 'w') as f:\n",
    "    f.write(html_diff)\n",
    "\n",
    "# Automatically open the diff in the default browser\n",
    "webbrowser.open('file://' + os.path.realpath(output_path))\n",
    "\n",
    "print(f\"Diff generated and opened in browser: {os.path.realpath(output_path)}\")\n"
   ]
  },
  {
   "cell_type": "code",
   "execution_count": null,
   "id": "9a9fe132",
   "metadata": {},
   "outputs": [],
   "source": []
  }
 ],
 "metadata": {
  "kernelspec": {
   "display_name": "Python 3",
   "language": "python",
   "name": "python3"
  },
  "language_info": {
   "codemirror_mode": {
    "name": "ipython",
    "version": 3
   },
   "file_extension": ".py",
   "mimetype": "text/x-python",
   "name": "python",
   "nbconvert_exporter": "python",
   "pygments_lexer": "ipython3",
   "version": "3.13.3"
  }
 },
 "nbformat": 4,
 "nbformat_minor": 5
}
