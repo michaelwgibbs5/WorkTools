{
 "cells": [
  {
   "cell_type": "code",
   "execution_count": null,
   "id": "5e550469",
   "metadata": {},
   "outputs": [],
   "source": [
    "#Logs into URL, takes screenshot of the dashboard and save output file which was then used in PowerAutomate to email the file to team members\n",
    "\n",
    "from selenium import webdriver\n",
    "from selenium.webdriver.chrome.options import Options\n",
    "from selenium.webdriver.common.by import By\n",
    "from selenium.webdriver.support.ui import WebDriverWait\n",
    "from selenium.webdriver.support import expected_conditions as EC\n",
    "import os\n",
    "import time\n",
    "\n",
    "# === Configuration ===\n",
    "url = \"https://XXXXXXX\"\n",
    "screenshot_path = r\"C:\\Users\\XXXXXX.png\"\n",
    "os.makedirs(os.path.dirname(screenshot_path), exist_ok=True)\n",
    "\n",
    "# === Chrome options ===\n",
    "chrome_options = Options()\n",
    "chrome_options.add_argument(r\"user-data-dir=C:\\Users\\XXXXXXXX\")\n",
    "chrome_options.add_argument(\"--profile-directory=Default\")\n",
    "chrome_options.add_argument(\"--start-maximized\")\n",
    "\n",
    "# === Launch Chrome ===\n",
    "driver = webdriver.Chrome(options=chrome_options)\n",
    "\n",
    "try:\n",
    "    driver.get(url)\n",
    "\n",
    "    input(\"Please log in manually in the opened browser window, then press Enter here to continue...\")\n",
    "\n",
    "    print(\"Waiting for dashboard to load...\")\n",
    "\n",
    "    try:\n",
    "        # Wait for a specific element that confirms the dashboard is ready\n",
    "        WebDriverWait(driver, 60).until(\n",
    "            EC.presence_of_element_located((By.CLASS_NAME, \".container\"))  # Replace with actual selector\n",
    "        )\n",
    "        print(\"Dashboard loaded.\")\n",
    "    except Exception as e:\n",
    "        print(\"Timeout waiting for dashboard to load. Proceeding anyway...\")\n",
    "\n",
    "    # Full page screenshot using CDP\n",
    "    time.sleep(2)\n",
    "    metrics = driver.execute_cdp_cmd(\"Page.getLayoutMetrics\", {})\n",
    "    width = metrics[\"contentSize\"][\"width\"]\n",
    "    height = metrics[\"contentSize\"][\"height\"]\n",
    "    driver.set_window_size(width, height)\n",
    "    time.sleep(2)\n",
    "    driver.save_screenshot(screenshot_path)\n",
    "    print(f\"Full-page screenshot saved to: {screenshot_path}\")\n",
    "\n",
    "finally:\n",
    "    driver.quit()\n"
   ]
  },
  {
   "cell_type": "code",
   "execution_count": null,
   "id": "ef082930",
   "metadata": {},
   "outputs": [],
   "source": []
  }
 ],
 "metadata": {
  "kernelspec": {
   "display_name": "Python 3",
   "language": "python",
   "name": "python3"
  },
  "language_info": {
   "codemirror_mode": {
    "name": "ipython",
    "version": 3
   },
   "file_extension": ".py",
   "mimetype": "text/x-python",
   "name": "python",
   "nbconvert_exporter": "python",
   "pygments_lexer": "ipython3",
   "version": "3.13.5"
  }
 },
 "nbformat": 4,
 "nbformat_minor": 5
}
