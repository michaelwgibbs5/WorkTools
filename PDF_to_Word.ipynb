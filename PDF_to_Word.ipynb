{
 "cells": [
  {
   "cell_type": "code",
   "execution_count": null,
   "metadata": {},
   "outputs": [],
   "source": [
    "#Convert PDF file to word document for editing\n",
    "\n",
    "import pdfplumber\n",
    "from docx import Document\n",
    "\n",
    "def pdf_to_word(pdf_path, word_path):\n",
    "    # Open the PDF file\n",
    "    with pdfplumber.open(pdf_path) as pdf:\n",
    "        # Create a new Word document\n",
    "        doc = Document()\n",
    "        \n",
    "        # Iterate through the pages of the PDF\n",
    "        for page in pdf.pages:\n",
    "            # Extract text from the page\n",
    "            text = page.extract_text()\n",
    "            if text:\n",
    "                # Add the text to the Word document\n",
    "                doc.add_paragraph(text)\n",
    "            \n",
    "            # Extract tables from the page\n",
    "            tables = page.extract_tables()\n",
    "            if tables:\n",
    "                for table in tables:\n",
    "                    if table:  # Check if table is not None\n",
    "                        # Add a table to the Word document\n",
    "                        word_table = doc.add_table(rows=len(table), cols=len(table[0]))\n",
    "                        for i, row in enumerate(table):\n",
    "                            if row:  # Check if row is not None\n",
    "                                for j, cell in enumerate(row):\n",
    "                                    if cell is not None:  # Check if cell is not None\n",
    "                                        word_table.cell(i, j).text = str(cell)\n",
    "        \n",
    "        # Save the Word document\n",
    "        doc.save(word_path)\n",
    "\n",
    "#Change as needed, input pdf file name, output word file name\n",
    "pdf_path = 'input_pdf.pdf'\n",
    "word_path = 'output_word.docx'\n",
    "pdf_to_word(pdf_path, word_path)"
   ]
  },
  {
   "cell_type": "code",
   "execution_count": null,
   "metadata": {},
   "outputs": [],
   "source": []
  }
 ],
 "metadata": {
  "kernelspec": {
   "display_name": "Python 3",
   "language": "python",
   "name": "python3"
  },
  "language_info": {
   "codemirror_mode": {
    "name": "ipython",
    "version": 3
   },
   "file_extension": ".py",
   "mimetype": "text/x-python",
   "name": "python",
   "nbconvert_exporter": "python",
   "pygments_lexer": "ipython3",
   "version": "3.13.2"
  }
 },
 "nbformat": 4,
 "nbformat_minor": 2
}
