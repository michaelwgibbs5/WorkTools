{
 "cells": [
  {
   "cell_type": "code",
   "execution_count": null,
   "id": "eef58a8e",
   "metadata": {},
   "outputs": [],
   "source": [
    "#Extracts text from 123Scan.rtf file and outputs text file inorder to compare text files using 123ScanCompare.\n",
    "#Repeat for each file to compare inorder to get into text file.\n",
    "\n",
    "from striprtf.striprtf import rtf_to_text\n",
    "\n",
    "def extract_text_from_rtf(input_path, output_path):\n",
    "    with open(input_path, 'r', encoding='utf-8') as rtf_file:\n",
    "        rtf_content = rtf_file.read()\n",
    "\n",
    "    plain_text = rtf_to_text(rtf_content)\n",
    "\n",
    "    with open(output_path, 'w', encoding='utf-8') as txt_file:\n",
    "        txt_file.write(plain_text)\n",
    "\n",
    "    print(f\"Plain text saved to {output_path}\")\n",
    "\n",
    "# Change File Names Here - Input File, Output File\n",
    "extract_text_from_rtf(\n",
    "    'RTF_FileName.rtf',\n",
    "    'OutputTextFile.txt'\n",
    ")\n"
   ]
  },
  {
   "cell_type": "code",
   "execution_count": null,
   "id": "d3f018bc",
   "metadata": {},
   "outputs": [],
   "source": []
  }
 ],
 "metadata": {
  "kernelspec": {
   "display_name": "Python 3",
   "language": "python",
   "name": "python3"
  },
  "language_info": {
   "codemirror_mode": {
    "name": "ipython",
    "version": 3
   },
   "file_extension": ".py",
   "mimetype": "text/x-python",
   "name": "python",
   "nbconvert_exporter": "python",
   "pygments_lexer": "ipython3",
   "version": "3.13.6"
  }
 },
 "nbformat": 4,
 "nbformat_minor": 5
}
